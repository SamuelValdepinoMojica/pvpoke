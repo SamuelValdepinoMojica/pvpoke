{
 "cells": [
  {
   "cell_type": "code",
   "execution_count": 1,
   "metadata": {},
   "outputs": [],
   "source": [
    "import asyncio\n",
    "import websockets\n",
    "from pydantic import BaseModel \n",
    "import nest_asyncio\n",
    "nest_asyncio.apply()\n",
    "import json\n",
    "from ClassPVPOKE import PVPokeEnv\n",
    "\n",
    "import gymnasium as gym"
   ]
  },
  {
   "cell_type": "code",
   "execution_count": 2,
   "metadata": {},
   "outputs": [],
   "source": [
    "env = PVPokeEnv(\"ws://localhost:8000/ws\", \"notebook\", \"pvpoke\")"
   ]
  },
  {
   "cell_type": "code",
   "execution_count": 3,
   "metadata": {},
   "outputs": [
    {
     "name": "stdout",
     "output_type": "stream",
     "text": [
      "Connected to the server.\n"
     ]
    }
   ],
   "source": [
    "# Crear una instancia del entorno y conectarse\n",
    "\n",
    "env.loop.run_until_complete(env.connect())"
   ]
  },
  {
   "cell_type": "code",
   "execution_count": 5,
   "metadata": {},
   "outputs": [
    {
     "data": {
      "text/plain": [
       "(array([  0., 141.,   0.,   0.,   0.,   0.,   0.,   0.,   1.,   0.,   0.,\n",
       "          0.,   0.,   0.,   0.,   0.,   0.,   0.,   0.,   0.,   0.,   0.,\n",
       "          0.,   0.,   0.,   0.,   0.,   0.,   0.,   0.,   1.,   0.,   0.,\n",
       "          0.,   0.,   0.,   0.,   0.,   0., 169.,   0.,   0.,   0.,   0.,\n",
       "          0.,   0.,   0.,   0.,   1.,   0.,   0.,   0.,   0.,   0.,   0.,\n",
       "          0.,   0.,   0.,   0.,   0.,   0.,   0.,   0.,   0.,   0.,   0.,\n",
       "          0.,   0.,   0.,   0.,   0.,   0.,   0.,   0.,   1.,   0.,   0.,\n",
       "        157.,   0.,   0.,   1.,   0.,   0.,   0.,   0.,   0.,   0.,   0.,\n",
       "          0.,   0.,   0.,   0.,   0.,   0.,   0.,   0.,   0.,   0.,   0.,\n",
       "          0.,   0.,   0.,   0.,   0.,   0.,   0.,   0.,   0.,   0.,   1.,\n",
       "          0.,   0.,   0.,   0.,   3.,   2.,   0., 155.,   0.,   0.,   0.,\n",
       "          0.,   0.,   0.,   0.,   0.,   0.,   0.,   0.,   0.,   0.,   0.,\n",
       "          0.,   1.,   0.,   0.,   0.,   0.,   0.,   0.,   0.,   0.,   0.,\n",
       "          0.,   0.,   0.,   0.,   0.,   0.,   0.,   0.,   0.,   0.,   0.,\n",
       "          0., 131.,   0.,   1.,   0.,   0.,   0.,   0.,   0.,   0.,   0.,\n",
       "          0.,   0.,   0.,   0.,   0.,   0.,   0.,   0.,   0.,   0.,   0.,\n",
       "          0.,   0.,   0.,   0.,   0.,   0.,   0.,   1.,   0.,   0.,   0.,\n",
       "          0.,   0.,   0.,   0.,   0.,   0., 136.,   0.,   0.,   1.,   0.,\n",
       "          0.,   0.,   0.,   0.,   0.,   0.,   0.,   0.,   0.,   0.,   0.,\n",
       "          0.,   0.,   0.,   0.,   0.,   0.,   0.,   0.,   0.,   0.,   0.,\n",
       "          1.,   0.,   0.,   0.,   0.,   0.,   0.,   0.,   0.,   0.,   3.,\n",
       "          2.], dtype=float32),\n",
       " {'team_ally': {}, 'team_enemy': {}})"
      ]
     },
     "execution_count": 5,
     "metadata": {},
     "output_type": "execute_result"
    }
   ],
   "source": [
    "env.reset()"
   ]
  },
  {
   "cell_type": "code",
   "execution_count": 6,
   "metadata": {},
   "outputs": [
    {
     "name": "stdout",
     "output_type": "stream",
     "text": [
      "WebSocket connection closed.\n"
     ]
    }
   ],
   "source": [
    "env.close()"
   ]
  },
  {
   "cell_type": "code",
   "execution_count": 25,
   "metadata": {},
   "outputs": [
    {
     "name": "stdout",
     "output_type": "stream",
     "text": [
      "Connected to the server.\n",
      "0.01347517730496453\n",
      "-0.1\n",
      "-0.13546099290780142\n",
      "WebSocket connection closed.\n"
     ]
    }
   ],
   "source": [
    "\n",
    "import asyncio\n",
    "import websockets\n",
    "from pydantic import BaseModel \n",
    "import nest_asyncio\n",
    "nest_asyncio.apply()\n",
    "import json\n",
    "from ClassPVPOKE import PVPokeEnv\n",
    "\n",
    "import gymnasium as gym\n",
    "env = PVPokeEnv(\"ws://localhost:8000/ws\", \"notebook\", \"pvpoke\")\n",
    "# Crear una instancia del entorno y conectarse\n",
    "\n",
    "env.loop.run_until_complete(env.connect())\n",
    "# Reset the environment to generate the first observation\n",
    "env.reset()\n",
    "for x in range(3):\n",
    "    # this is where you would insert your policy\n",
    "    \n",
    "    #print( x ,action)\n",
    "\n",
    "    # step (transition) through the environment with the action\n",
    "    # receiving the next observation, reward and if the episode has terminated or truncated\n",
    "    observation, reward, terminated, truncated, info = env.step(5)\n",
    "    env.step(0)\n",
    "    print(reward)\n",
    "\n",
    "    # If the episode has ended then we can reset to start a new episode\n",
    "    if terminated or truncated:\n",
    "        observation, info = env.reset()\n",
    "\n",
    "env.close()"
   ]
  },
  {
   "cell_type": "code",
   "execution_count": 27,
   "metadata": {},
   "outputs": [
    {
     "name": "stdout",
     "output_type": "stream",
     "text": [
      "Connected to the server.\n"
     ]
    }
   ],
   "source": [
    "env.loop.run_until_complete(env.connect())"
   ]
  },
  {
   "cell_type": "code",
   "execution_count": 41,
   "metadata": {},
   "outputs": [
    {
     "name": "stdout",
     "output_type": "stream",
     "text": [
      "0.016129032258064516\n"
     ]
    },
    {
     "ename": "",
     "evalue": "",
     "output_type": "error",
     "traceback": [
      "\u001b[1;31mThe Kernel crashed while executing code in the current cell or a previous cell. \n",
      "\u001b[1;31mPlease review the code in the cell(s) to identify a possible cause of the failure. \n",
      "\u001b[1;31mClick <a href='https://aka.ms/vscodeJupyterKernelCrash'>here</a> for more info. \n",
      "\u001b[1;31mView Jupyter <a href='command:jupyter.viewOutput'>log</a> for further details."
     ]
    }
   ],
   "source": [
    "\n",
    "observation, reward, terminated, truncated, info = env.step(4)\n",
    "print(reward)"
   ]
  },
  {
   "cell_type": "code",
   "execution_count": 17,
   "metadata": {},
   "outputs": [
    {
     "data": {
      "text/plain": [
       "(array([  0., 141.,   0.,   0.,   0.,   0.,   0.,   0.,   1.,   0.,   0.,\n",
       "          0.,   0.,   0.,   0.,   0.,   0.,   0.,   0.,   0.,   0.,   0.,\n",
       "          0.,   0.,   0.,   0.,   0.,   0.,   0.,   0.,   1.,   0.,   0.,\n",
       "          0.,   0.,   0.,   0.,   0.,   0., 150.,   0.,   0.,   0.,   0.,\n",
       "          0.,   0.,   0.,   0.,   1.,   0.,   0.,   0.,   0.,   0.,   0.,\n",
       "          0.,   0.,   0.,   0.,   0.,   0.,   0.,   0.,   0.,   0.,   0.,\n",
       "          0.,   0.,   0.,   0.,   0.,   0.,   0.,   0.,   1.,   0.,   0.,\n",
       "        157.,   0.,   0.,   1.,   0.,   0.,   0.,   0.,   0.,   0.,   0.,\n",
       "          0.,   0.,   0.,   0.,   0.,   0.,   0.,   0.,   0.,   0.,   0.,\n",
       "          0.,   0.,   0.,   0.,   0.,   0.,   0.,   0.,   0.,   0.,   1.,\n",
       "          0.,   0.,   0.,   0.,   3.,   2.,  13., 155.,   0.,   0.,   0.,\n",
       "          0.,   0.,   0.,   0.,   0.,   0.,   0.,   0.,   0.,   0.,   0.,\n",
       "          0.,   1.,   0.,   0.,   0.,   0.,   0.,   0.,   0.,   0.,   0.,\n",
       "          0.,   0.,   0.,   0.,   0.,   0.,   0.,   0.,   0.,   0.,   0.,\n",
       "          0., 131.,   0.,   1.,   0.,   0.,   0.,   0.,   0.,   0.,   0.,\n",
       "          0.,   0.,   0.,   0.,   0.,   0.,   0.,   0.,   0.,   0.,   0.,\n",
       "          0.,   0.,   0.,   0.,   0.,   0.,   0.,   1.,   0.,   0.,   0.,\n",
       "          0.,   0.,   0.,   0.,   0.,  36., 136.,   0.,   0.,   1.,   0.,\n",
       "          0.,   0.,   0.,   0.,   0.,   0.,   0.,   0.,   0.,   0.,   0.,\n",
       "          0.,   0.,   0.,   0.,   0.,   0.,   0.,   0.,   0.,   0.,   0.,\n",
       "          1.,   0.,   0.,   0.,   0.,   0.,   0.,   0.,   0.,   0.,   3.,\n",
       "          2.], dtype=float32),\n",
       " -0.028368794326241134,\n",
       " False,\n",
       " False,\n",
       " {})"
      ]
     },
     "execution_count": 17,
     "metadata": {},
     "output_type": "execute_result"
    }
   ],
   "source": [
    "env.step(5)"
   ]
  },
  {
   "cell_type": "code",
   "execution_count": 7,
   "metadata": {},
   "outputs": [
    {
     "name": "stdout",
     "output_type": "stream",
     "text": [
      "Connected to the server.\n"
     ]
    }
   ],
   "source": [
    "env.loop.run_until_complete(env.connect())"
   ]
  },
  {
   "cell_type": "code",
   "execution_count": 10,
   "metadata": {},
   "outputs": [
    {
     "name": "stdout",
     "output_type": "stream",
     "text": [
      "Sending message: reset\n"
     ]
    },
    {
     "data": {
      "text/plain": [
       "(array([  0., 122.,  73.,   2.,   0., 130., 182.,   2.], dtype=float32),\n",
       " {'team_ally': {}, 'team_enemy': {}})"
      ]
     },
     "execution_count": 10,
     "metadata": {},
     "output_type": "execute_result"
    }
   ],
   "source": [
    "env.reset()"
   ]
  },
  {
   "cell_type": "code",
   "execution_count": 13,
   "metadata": {},
   "outputs": [
    {
     "ename": "ValueError",
     "evalue": "WebSocket is not connected. Call `connect()` first.",
     "output_type": "error",
     "traceback": [
      "\u001b[1;31m---------------------------------------------------------------------------\u001b[0m",
      "\u001b[1;31mValueError\u001b[0m                                Traceback (most recent call last)",
      "Cell \u001b[1;32mIn[13], line 1\u001b[0m\n\u001b[1;32m----> 1\u001b[0m \u001b[43menv\u001b[49m\u001b[38;5;241;43m.\u001b[39;49m\u001b[43mreset\u001b[49m\u001b[43m(\u001b[49m\u001b[43m)\u001b[49m\n\u001b[0;32m      3\u001b[0m \u001b[38;5;28;01mfor\u001b[39;00m x \u001b[38;5;129;01min\u001b[39;00m \u001b[38;5;28mrange\u001b[39m(\u001b[38;5;241m6\u001b[39m):\n\u001b[0;32m      4\u001b[0m     \u001b[38;5;66;03m# this is where you would insert your policy\u001b[39;00m\n\u001b[0;32m      5\u001b[0m     action \u001b[38;5;241m=\u001b[39m \u001b[38;5;241m0\u001b[39m\n",
      "File \u001b[1;32mc:\\pvpokeDRL\\pvpoke\\PVPOKE\\ClassPVPOKE.py:71\u001b[0m, in \u001b[0;36mPVPokeEnv.reset\u001b[1;34m(self, seed, options)\u001b[0m\n\u001b[0;32m     69\u001b[0m \u001b[38;5;28;01mif\u001b[39;00m seed \u001b[38;5;129;01mis\u001b[39;00m \u001b[38;5;129;01mnot\u001b[39;00m \u001b[38;5;28;01mNone\u001b[39;00m:\n\u001b[0;32m     70\u001b[0m     np\u001b[38;5;241m.\u001b[39mrandom\u001b[38;5;241m.\u001b[39mseed(seed)\n\u001b[1;32m---> 71\u001b[0m observation, info \u001b[38;5;241m=\u001b[39m \u001b[43masyncio\u001b[49m\u001b[38;5;241;43m.\u001b[39;49m\u001b[43mrun\u001b[49m\u001b[43m(\u001b[49m\u001b[38;5;28;43mself\u001b[39;49m\u001b[38;5;241;43m.\u001b[39;49m\u001b[43mreset_async\u001b[49m\u001b[43m(\u001b[49m\u001b[43m)\u001b[49m\u001b[43m)\u001b[49m\n\u001b[0;32m     72\u001b[0m \u001b[38;5;28;01mreturn\u001b[39;00m observation ,info\n",
      "File \u001b[1;32mc:\\Users\\samue\\miniconda3\\envs\\gym\\Lib\\site-packages\\nest_asyncio.py:30\u001b[0m, in \u001b[0;36m_patch_asyncio.<locals>.run\u001b[1;34m(main, debug)\u001b[0m\n\u001b[0;32m     28\u001b[0m task \u001b[38;5;241m=\u001b[39m asyncio\u001b[38;5;241m.\u001b[39mensure_future(main)\n\u001b[0;32m     29\u001b[0m \u001b[38;5;28;01mtry\u001b[39;00m:\n\u001b[1;32m---> 30\u001b[0m     \u001b[38;5;28;01mreturn\u001b[39;00m \u001b[43mloop\u001b[49m\u001b[38;5;241;43m.\u001b[39;49m\u001b[43mrun_until_complete\u001b[49m\u001b[43m(\u001b[49m\u001b[43mtask\u001b[49m\u001b[43m)\u001b[49m\n\u001b[0;32m     31\u001b[0m \u001b[38;5;28;01mfinally\u001b[39;00m:\n\u001b[0;32m     32\u001b[0m     \u001b[38;5;28;01mif\u001b[39;00m \u001b[38;5;129;01mnot\u001b[39;00m task\u001b[38;5;241m.\u001b[39mdone():\n",
      "File \u001b[1;32mc:\\Users\\samue\\miniconda3\\envs\\gym\\Lib\\site-packages\\nest_asyncio.py:98\u001b[0m, in \u001b[0;36m_patch_loop.<locals>.run_until_complete\u001b[1;34m(self, future)\u001b[0m\n\u001b[0;32m     95\u001b[0m \u001b[38;5;28;01mif\u001b[39;00m \u001b[38;5;129;01mnot\u001b[39;00m f\u001b[38;5;241m.\u001b[39mdone():\n\u001b[0;32m     96\u001b[0m     \u001b[38;5;28;01mraise\u001b[39;00m \u001b[38;5;167;01mRuntimeError\u001b[39;00m(\n\u001b[0;32m     97\u001b[0m         \u001b[38;5;124m'\u001b[39m\u001b[38;5;124mEvent loop stopped before Future completed.\u001b[39m\u001b[38;5;124m'\u001b[39m)\n\u001b[1;32m---> 98\u001b[0m \u001b[38;5;28;01mreturn\u001b[39;00m \u001b[43mf\u001b[49m\u001b[38;5;241;43m.\u001b[39;49m\u001b[43mresult\u001b[49m\u001b[43m(\u001b[49m\u001b[43m)\u001b[49m\n",
      "File \u001b[1;32mc:\\Users\\samue\\miniconda3\\envs\\gym\\Lib\\asyncio\\futures.py:203\u001b[0m, in \u001b[0;36mFuture.result\u001b[1;34m(self)\u001b[0m\n\u001b[0;32m    201\u001b[0m \u001b[38;5;28mself\u001b[39m\u001b[38;5;241m.\u001b[39m__log_traceback \u001b[38;5;241m=\u001b[39m \u001b[38;5;28;01mFalse\u001b[39;00m\n\u001b[0;32m    202\u001b[0m \u001b[38;5;28;01mif\u001b[39;00m \u001b[38;5;28mself\u001b[39m\u001b[38;5;241m.\u001b[39m_exception \u001b[38;5;129;01mis\u001b[39;00m \u001b[38;5;129;01mnot\u001b[39;00m \u001b[38;5;28;01mNone\u001b[39;00m:\n\u001b[1;32m--> 203\u001b[0m     \u001b[38;5;28;01mraise\u001b[39;00m \u001b[38;5;28mself\u001b[39m\u001b[38;5;241m.\u001b[39m_exception\u001b[38;5;241m.\u001b[39mwith_traceback(\u001b[38;5;28mself\u001b[39m\u001b[38;5;241m.\u001b[39m_exception_tb)\n\u001b[0;32m    204\u001b[0m \u001b[38;5;28;01mreturn\u001b[39;00m \u001b[38;5;28mself\u001b[39m\u001b[38;5;241m.\u001b[39m_result\n",
      "File \u001b[1;32mc:\\Users\\samue\\miniconda3\\envs\\gym\\Lib\\asyncio\\tasks.py:277\u001b[0m, in \u001b[0;36mTask.__step\u001b[1;34m(***failed resolving arguments***)\u001b[0m\n\u001b[0;32m    273\u001b[0m \u001b[38;5;28;01mtry\u001b[39;00m:\n\u001b[0;32m    274\u001b[0m     \u001b[38;5;28;01mif\u001b[39;00m exc \u001b[38;5;129;01mis\u001b[39;00m \u001b[38;5;28;01mNone\u001b[39;00m:\n\u001b[0;32m    275\u001b[0m         \u001b[38;5;66;03m# We use the `send` method directly, because coroutines\u001b[39;00m\n\u001b[0;32m    276\u001b[0m         \u001b[38;5;66;03m# don't have `__iter__` and `__next__` methods.\u001b[39;00m\n\u001b[1;32m--> 277\u001b[0m         result \u001b[38;5;241m=\u001b[39m coro\u001b[38;5;241m.\u001b[39msend(\u001b[38;5;28;01mNone\u001b[39;00m)\n\u001b[0;32m    278\u001b[0m     \u001b[38;5;28;01melse\u001b[39;00m:\n\u001b[0;32m    279\u001b[0m         result \u001b[38;5;241m=\u001b[39m coro\u001b[38;5;241m.\u001b[39mthrow(exc)\n",
      "File \u001b[1;32mc:\\pvpokeDRL\\pvpoke\\PVPOKE\\ClassPVPOKE.py:48\u001b[0m, in \u001b[0;36mPVPokeEnv.reset_async\u001b[1;34m(self, seed)\u001b[0m\n\u001b[0;32m     46\u001b[0m \u001b[38;5;250m\u001b[39m\u001b[38;5;124;03m\"\"\"Reinicia el entorno y devuelve el estado inicial.\"\"\"\u001b[39;00m\n\u001b[0;32m     47\u001b[0m \u001b[38;5;28;01mif\u001b[39;00m \u001b[38;5;129;01mnot\u001b[39;00m \u001b[38;5;28mself\u001b[39m\u001b[38;5;241m.\u001b[39mwebsocket:\n\u001b[1;32m---> 48\u001b[0m     \u001b[38;5;28;01mraise\u001b[39;00m \u001b[38;5;167;01mValueError\u001b[39;00m(\u001b[38;5;124m\"\u001b[39m\u001b[38;5;124mWebSocket is not connected. Call `connect()` first.\u001b[39m\u001b[38;5;124m\"\u001b[39m)\n\u001b[0;32m     50\u001b[0m reset_message \u001b[38;5;241m=\u001b[39m \u001b[38;5;124m\"\u001b[39m\u001b[38;5;124mreset\u001b[39m\u001b[38;5;124m\"\u001b[39m\n\u001b[0;32m     51\u001b[0m \u001b[38;5;28mprint\u001b[39m(\u001b[38;5;124mf\u001b[39m\u001b[38;5;124m\"\u001b[39m\u001b[38;5;124mSending message: \u001b[39m\u001b[38;5;132;01m{\u001b[39;00mreset_message\u001b[38;5;132;01m}\u001b[39;00m\u001b[38;5;124m\"\u001b[39m)\n",
      "\u001b[1;31mValueError\u001b[0m: WebSocket is not connected. Call `connect()` first."
     ]
    }
   ],
   "source": [
    "env.reset()\n",
    "\n",
    "for x in range(6):\n",
    "    # this is where you would insert your policy\n",
    "    action = 0\n",
    "    print( x ,action)\n",
    "\n",
    "    # step (transition) through the environment with the action\n",
    "    # receiving the next observation, reward and if the episode has terminated or truncated\n",
    "    observation, reward, terminated, truncated, info = env.step(action)\n",
    "    print(observation)\n",
    "    print(reward)\n",
    "    print(terminated)\n",
    "    # If the episode has ended then we can reset to start a new episode\n",
    "    if terminated or truncated:\n",
    "        observation, info = env.reset()\n",
    "#env.step(1)\n",
    "#env.step(0)\n",
    "#env.step(0)\n",
    "#env.step(0)"
   ]
  },
  {
   "cell_type": "code",
   "execution_count": 10,
   "metadata": {},
   "outputs": [
    {
     "name": "stdout",
     "output_type": "stream",
     "text": [
      "1\n"
     ]
    }
   ],
   "source": [
    "action = env.action_space.sample()\n",
    "\n",
    "print(action)"
   ]
  },
  {
   "cell_type": "code",
   "execution_count": 6,
   "metadata": {},
   "outputs": [
    {
     "name": "stdout",
     "output_type": "stream",
     "text": [
      "WebSocket connection closed.\n"
     ]
    }
   ],
   "source": [
    "env.close()"
   ]
  },
  {
   "cell_type": "code",
   "execution_count": 24,
   "metadata": {},
   "outputs": [
    {
     "name": "stdout",
     "output_type": "stream",
     "text": [
      "Sending message: reset\n",
      "Initial State: (array([  0., 103., 151.,   0.,   0.,   0.,   0.,   0.,   0.,   2.,   0.,\n",
      "       126.,  52.,   0., 186., 215.,   0., 128., 190.,   2.],\n",
      "      dtype=float32), {'team_ally': {}, 'team_enemy': {}})\n"
     ]
    }
   ],
   "source": [
    "# Reiniciar el entorno y obtener el estado inicial\n",
    "initial_state = env.reset()\n",
    "print(\"Initial State:\", initial_state)"
   ]
  },
  {
   "cell_type": "code",
   "execution_count": 17,
   "metadata": {},
   "outputs": [
    {
     "name": "stdout",
     "output_type": "stream",
     "text": [
      "State: [ 14. 138.  90.   2.  18. 151.   6.   2.]\n",
      "Reward: 0\n",
      "Done: False\n",
      "Info: {}\n"
     ]
    }
   ],
   "source": [
    "state,reward,done,truncated,info =env.step(0) #Fast move\n",
    "print(\"State:\", state)\n",
    "print(\"Reward:\", reward)\n",
    "print(\"Done:\", done)\n",
    "print(\"Info:\", info)"
   ]
  },
  {
   "cell_type": "code",
   "execution_count": 24,
   "metadata": {},
   "outputs": [
    {
     "name": "stdout",
     "output_type": "stream",
     "text": [
      "State: [ 14. 130.  90.   2.  54. 151.   6.   2.]\n",
      "Reward: 0\n",
      "Done: False\n",
      "Info: {}\n"
     ]
    }
   ],
   "source": [
    "state,reward,done,truncated,info =env.step(1) #charge move 1\n",
    "print(\"State:\", state)\n",
    "print(\"Reward:\", reward)\n",
    "print(\"Done:\", done)\n",
    "print(\"Info:\", info)"
   ]
  },
  {
   "cell_type": "code",
   "execution_count": null,
   "metadata": {},
   "outputs": [],
   "source": [
    "state,reward,done,info =env.step(2) #charge move 2\n",
    "print(\"State:\", state)\n",
    "print(\"Reward:\", reward)\n",
    "print(\"Done:\", done)\n",
    "print(\"Info:\", info)\n"
   ]
  },
  {
   "cell_type": "code",
   "execution_count": 20,
   "metadata": {},
   "outputs": [
    {
     "name": "stdout",
     "output_type": "stream",
     "text": [
      "State: {'teamAlly': {'pokemon1': {'name': 'Talonflame', 'energy': 60, 'hp': 0}, 'pokemon2': {'name': 'Azumarill', 'energy': 0, 'hp': 194}, 'pokemon3': {'name': 'Umbreon', 'energy': 39, 'hp': 135}, 'shield': 2}, 'teamEnemy': {'pokemon1': {'name': 'Whiscash (Shadow)', 'energy': 22, 'hp': 134}, 'pokemon2': {'name': 'Vigoroth', 'energy': 28, 'hp': 133}, 'pokemon3': {'name': 'Skarmory', 'energy': 0, 'hp': 122}, 'shield': 2}}\n",
      "State: [ 60.   0.  66.   0. 194. 185.  39. 135. 172.   2.  22. 134.  91.  28.\n",
      " 133. 179.   0. 122. 253.   2.]\n",
      "Reward: 0\n",
      "Done: False\n",
      "Info: {}\n"
     ]
    }
   ],
   "source": [
    "state,reward,done,info =env.step(3) #switch 1\n",
    "print(\"State:\", state)\n",
    "print(\"Reward:\", reward)\n",
    "print(\"Done:\", done)\n",
    "print(\"Info:\", info)\n",
    "\n"
   ]
  },
  {
   "cell_type": "code",
   "execution_count": 21,
   "metadata": {},
   "outputs": [
    {
     "name": "stdout",
     "output_type": "stream",
     "text": [
      "State: {'teamAlly': {'pokemon1': {'name': 'Talonflame', 'energy': 60, 'hp': 0}, 'pokemon2': {'name': 'Azumarill', 'energy': 0, 'hp': 194}, 'pokemon3': {'name': 'Umbreon', 'energy': 39, 'hp': 135}, 'shield': 2}, 'teamEnemy': {'pokemon1': {'name': 'Whiscash (Shadow)', 'energy': 22, 'hp': 134}, 'pokemon2': {'name': 'Vigoroth', 'energy': 28, 'hp': 133}, 'pokemon3': {'name': 'Skarmory', 'energy': 0, 'hp': 122}, 'shield': 2}}\n",
      "State: [ 60.   0.  66.   0. 194. 185.  39. 135. 172.   2.  22. 134.  91.  28.\n",
      " 133. 179.   0. 122. 253.   2.]\n",
      "Reward: 0\n",
      "Done: False\n",
      "Info: {}\n"
     ]
    }
   ],
   "source": [
    "state,reward,done,info =env.step(4) #switch 2  \n",
    "print(\"State:\", state)\n",
    "print(\"Reward:\", reward)\n",
    "print(\"Done:\", done)\n",
    "print(\"Info:\", info)\n"
   ]
  },
  {
   "cell_type": "code",
   "execution_count": 23,
   "metadata": {},
   "outputs": [
    {
     "name": "stdout",
     "output_type": "stream",
     "text": [
      "State: {'teamAlly': {'pokemon1': {'name': 'Talonflame', 'energy': 60, 'hp': 0}, 'pokemon2': {'name': 'Azumarill', 'energy': 0, 'hp': 194}, 'pokemon3': {'name': 'Umbreon', 'energy': 52, 'hp': 123}, 'shield': 2}, 'teamEnemy': {'pokemon1': {'name': 'Whiscash (Shadow)', 'energy': 22, 'hp': 134}, 'pokemon2': {'name': 'Vigoroth', 'energy': 42, 'hp': 129}, 'pokemon3': {'name': 'Skarmory', 'energy': 0, 'hp': 122}, 'shield': 2}}\n",
      "State: [ 60.   0.  66.   0. 194. 185.  52. 123. 172.   2.  22. 134.  91.  42.\n",
      " 129. 179.   0. 122. 253.   2.]\n",
      "Reward: 0\n",
      "Done: False\n"
     ]
    }
   ],
   "source": [
    "state,reward,done,info =env.step(5) #shield\n",
    "print(\"State:\", state)\n",
    "print(\"Reward:\", reward)\n",
    "print(\"Done:\", done)"
   ]
  },
  {
   "cell_type": "code",
   "execution_count": 5,
   "metadata": {},
   "outputs": [],
   "source": [
    "# Función de conexión WebSocket\n",
    "async def websocket_client(uri, client_id, target_client_id, message):\n",
    "    # Añadir el client_id a la URI de conexión\n",
    "    uri_with_id = f\"{uri}/{client_id}/{target_client_id}\"\n",
    "    \n",
    "    async with websockets.connect(uri_with_id) as websocket:\n",
    "        # Enviar mensaje a un cliente específico\n",
    "        for i in range(1):\n",
    "            # Estructura de mensaje con ID del destinatario y el mensaje\n",
    "            data = message\n",
    "            \n",
    "            await websocket.send(data)  # Enviar mensaje\n",
    "            print(f\"Message sent: {data}\")\n",
    "            \n",
    "            ## Esperar la respuesta\n",
    "            response = await websocket.recv()  \n",
    "            print(f\"Message received: {response}\")\n",
    "            return response"
   ]
  },
  {
   "cell_type": "code",
   "execution_count": 9,
   "metadata": {},
   "outputs": [],
   "source": [
    "# Función de conexión WebSocket\n",
    "async def websocket_client(uri, client_id, target_client_id, message):\n",
    "    # Añadir el client_id a la URI de conexión\n",
    "    uri_with_id = f\"{uri}/{client_id}/{target_client_id}\"\n",
    "    \n",
    "    async with websockets.connect(uri_with_id) as websocket:\n",
    "\n",
    "        data = message\n",
    "\n",
    "        await websocket.send(data)  # Enviar mensaje\n",
    "        print(f\"Message sent: {data}\")\n",
    "\n",
    "        ## Esperar la respuesta\n",
    "        #response = await websocket.recv()  \n",
    "        #print(f\"Message received: {response}\")\n",
    "\n",
    "        await asyncio.sleep(1)  # Opcional: espera entre mensajes"
   ]
  },
  {
   "cell_type": "code",
   "execution_count": null,
   "metadata": {},
   "outputs": [],
   "source": []
  },
  {
   "cell_type": "code",
   "execution_count": 6,
   "metadata": {},
   "outputs": [
    {
     "name": "stdout",
     "output_type": "stream",
     "text": [
      "Message sent: fast\n",
      "Message received: {\"state\":{\"teamAlly\":{\"pokemon1\":{\"name\":\"Vigoroth\",\"energy\":7,\"hp\":145},\"pokemon2\":{\"name\":\"Stunfisk (Galarian)\",\"energy\":0,\"hp\":173},\"pokemon3\":{\"name\":\"Walrein\",\"energy\":0,\"hp\":153},\"shield\":2},\"teamEnemy\":{\"pokemon1\":{\"name\":\"Gligar\",\"energy\":8,\"hp\":129},\"pokemon2\":{\"name\":\"Lanturn\",\"energy\":0,\"hp\":197},\"pokemon3\":{\"name\":\"Lickitung\",\"energy\":0,\"hp\":185},\"shield\":2},\"chargedMoveAlly\":-1}}\n"
     ]
    }
   ],
   "source": [
    "# Configuración de los parámetros\n",
    "uri = \"ws://localhost:8000/ws\"\n",
    "client_id = \"notebook\"  # El ID único para el cliente en el ipynb\n",
    "target_client_id = \"pvpoke\"  # ID del cliente de destino en el HTML\n",
    "message = \"fast\"\n",
    "# Ejecutar la conexión con los mensajes\n",
    "state = asyncio.run(websocket_client(uri, client_id, target_client_id, message))"
   ]
  },
  {
   "cell_type": "code",
   "execution_count": null,
   "metadata": {},
   "outputs": [
    {
     "name": "stdout",
     "output_type": "stream",
     "text": [
      "dict_keys(['state'])\n"
     ]
    }
   ],
   "source": [
    "#shape state\n",
    "#print(state)\n",
    "currentstate = json.loads(state)\n",
    "print(currentstate.keys())\n"
   ]
  },
  {
   "cell_type": "code",
   "execution_count": null,
   "metadata": {},
   "outputs": [],
   "source": []
  },
  {
   "cell_type": "code",
   "execution_count": 6,
   "metadata": {},
   "outputs": [
    {
     "name": "stdout",
     "output_type": "stream",
     "text": [
      "Message sent: charged1\n",
      "Message received: {\"state\":{\"teamAlly\":{\"pokemon1\":{\"name\":\"Umbreon\",\"energy\":52,\"hp\":139},\"pokemon2\":{\"name\":\"Trevenant\",\"energy\":0,\"hp\":132},\"pokemon3\":{\"name\":\"Stunfisk (Galarian)\",\"energy\":0,\"hp\":175},\"shield\":2},\"teamEnemy\":{\"pokemon1\":{\"name\":\"Bastiodon\",\"energy\":32,\"hp\":134},\"pokemon2\":{\"name\":\"Wigglytuff\",\"energy\":0,\"hp\":225},\"pokemon3\":{\"name\":\"Victreebel (Shadow)\",\"energy\":0,\"hp\":132},\"shield\":2},\"chargedMoveAlly\":-1}}\n"
     ]
    }
   ],
   "source": [
    "# Configuración de los parámetros\n",
    "uri = \"ws://localhost:8000/ws\"\n",
    "client_id = \"notebook\"  # El ID único para el cliente en el ipynb\n",
    "target_client_id = \"pvpoke\"  # ID del cliente de destino en el HTML\n",
    "message = \"charged1\"\n",
    "# Ejecutar la conexión con los mensajes\n",
    "asyncio.run(websocket_client(uri, client_id, target_client_id, message))"
   ]
  },
  {
   "cell_type": "code",
   "execution_count": 11,
   "metadata": {},
   "outputs": [
    {
     "name": "stdout",
     "output_type": "stream",
     "text": [
      "Message sent: switch2\n",
      "Message received: {\"state\":{\"teamAlly\":{\"pokemon1\":{\"name\":\"Skarmory\",\"energy\":18,\"hp\":0},\"pokemon2\":{\"name\":\"Ninetales (Alolan)\",\"energy\":0,\"hp\":124},\"pokemon3\":{\"name\":\"Stunfisk (Galarian)\",\"energy\":0,\"hp\":172},\"shield\":2},\"teamEnemy\":{\"pokemon1\":{\"name\":\"Wigglytuff\",\"energy\":12,\"hp\":220},\"pokemon2\":{\"name\":\"Bastiodon\",\"energy\":0,\"hp\":142},\"pokemon3\":{\"name\":\"Victreebel (Shadow)\",\"energy\":0,\"hp\":130},\"shield\":2},\"chargedMoveAlly\":-1}}\n"
     ]
    }
   ],
   "source": [
    "# Configuración de los parámetros\n",
    "uri = \"ws://localhost:8000/ws\"\n",
    "client_id = \"notebook\"  # El ID único para el cliente en el ipynb\n",
    "target_client_id = \"pvpoke\"  # ID del cliente de destino en el HTML\n",
    "message = \"switch2\"\n",
    "# Ejecutar la conexión con los mensajes\n",
    "asyncio.run(websocket_client(uri, client_id, target_client_id, message))"
   ]
  },
  {
   "cell_type": "code",
   "execution_count": null,
   "metadata": {},
   "outputs": [
    {
     "name": "stdout",
     "output_type": "stream",
     "text": [
      "Message sent: shield\n",
      "Message received: {\"state\":{\"teamAlly\":{\"pokemon1\":{\"name\":\"Walrein\",\"energy\":0,\"hp\":155},\"pokemon2\":{\"name\":\"Drapion\",\"energy\":0,\"hp\":115},\"pokemon3\":{\"name\":\"Medicham\",\"energy\":0,\"hp\":142},\"shield\":2},\"teamEnemy\":{\"pokemon1\":{\"name\":\"Skarmory\",\"energy\":0,\"hp\":118},\"pokemon2\":{\"name\":\"Lanturn\",\"energy\":0,\"hp\":198},\"pokemon3\":{\"name\":\"Whiscash\",\"energy\":0,\"hp\":176},\"shield\":2},\"chargedMoveAlly\":-1}}\n"
     ]
    }
   ],
   "source": [
    "# Configuración de los parámetros\n",
    "uri = \"ws://localhost:8000/ws\"\n",
    "client_id = \"notebook\"  # El ID único para el cliente en el ipynb\n",
    "target_client_id = \"pvpoke\"  # ID del cliente de destino en el HTML\n",
    "message = \"shield\"\n",
    "# Ejecutar la conexión con los mensajes\n",
    "asyncio.run(websocket_client(uri, client_id, target_client_id, message))"
   ]
  },
  {
   "cell_type": "code",
   "execution_count": 20,
   "metadata": {},
   "outputs": [
    {
     "name": "stdout",
     "output_type": "stream",
     "text": [
      "Message sent: reset\n",
      "Message received: {\"state\":{\"teamAlly\":{\"pokemon1\":{\"name\":\"Skarmory\",\"energy\":0,\"hp\":120},\"pokemon2\":{\"name\":\"Stunfisk (Galarian)\",\"energy\":0,\"hp\":175},\"pokemon3\":{\"name\":\"Drapion\",\"energy\":0,\"hp\":118},\"shield\":2},\"teamEnemy\":{\"pokemon1\":{\"name\":\"Whiscash\",\"energy\":0,\"hp\":172},\"pokemon2\":{\"name\":\"Skarmory\",\"energy\":0,\"hp\":121},\"pokemon3\":{\"name\":\"Gligar\",\"energy\":0,\"hp\":131},\"shield\":2},\"chargedMoveAlly\":-1}}\n"
     ]
    }
   ],
   "source": [
    "# Configuración de los parámetros\n",
    "uri = \"ws://localhost:8000/ws\"\n",
    "client_id = \"notebook\"  # El ID único para el cliente en el ipynb\n",
    "target_client_id = \"pvpoke\"  # ID del cliente de destino en el HTML\n",
    "message = \"reset\"\n",
    "# Ejecutar la conexión con los mensajes\n",
    "asyncio.run(websocket_client(uri, client_id, target_client_id, message))"
   ]
  },
  {
   "cell_type": "markdown",
   "metadata": {},
   "source": [
    "Prueba AGENTE"
   ]
  },
  {
   "cell_type": "code",
   "execution_count": 63,
   "metadata": {},
   "outputs": [
    {
     "name": "stdout",
     "output_type": "stream",
     "text": [
      "Connected to the server.\n"
     ]
    },
    {
     "ename": "TypeError",
     "evalue": "The reset() method must accept a `seed` parameter",
     "output_type": "error",
     "traceback": [
      "\u001b[1;31m---------------------------------------------------------------------------\u001b[0m",
      "\u001b[1;31mTypeError\u001b[0m                                 Traceback (most recent call last)",
      "File \u001b[1;32mc:\\Users\\samue\\miniconda3\\envs\\gym\\Lib\\site-packages\\stable_baselines3\\common\\env_checker.py:441\u001b[0m, in \u001b[0;36mcheck_env\u001b[1;34m(env, warn, skip_render_check)\u001b[0m\n\u001b[0;32m    440\u001b[0m \u001b[38;5;28;01mtry\u001b[39;00m:\n\u001b[1;32m--> 441\u001b[0m     \u001b[43menv\u001b[49m\u001b[38;5;241;43m.\u001b[39;49m\u001b[43mreset\u001b[49m\u001b[43m(\u001b[49m\u001b[43mseed\u001b[49m\u001b[38;5;241;43m=\u001b[39;49m\u001b[38;5;241;43m0\u001b[39;49m\u001b[43m)\u001b[49m\n\u001b[0;32m    442\u001b[0m \u001b[38;5;28;01mexcept\u001b[39;00m \u001b[38;5;167;01mTypeError\u001b[39;00m \u001b[38;5;28;01mas\u001b[39;00m e:\n",
      "\u001b[1;31mTypeError\u001b[0m: PVPokeEnv.reset() got an unexpected keyword argument 'seed'",
      "\nThe above exception was the direct cause of the following exception:\n",
      "\u001b[1;31mTypeError\u001b[0m                                 Traceback (most recent call last)",
      "Cell \u001b[1;32mIn[63], line 16\u001b[0m\n\u001b[0;32m     13\u001b[0m asyncio\u001b[38;5;241m.\u001b[39mrun(env\u001b[38;5;241m.\u001b[39mconnect())\n\u001b[0;32m     15\u001b[0m \u001b[38;5;66;03m# Check if the environment follows the Gym API\u001b[39;00m\n\u001b[1;32m---> 16\u001b[0m \u001b[43mcheck_env\u001b[49m\u001b[43m(\u001b[49m\u001b[43menv\u001b[49m\u001b[43m)\u001b[49m\n\u001b[0;32m     18\u001b[0m \u001b[38;5;66;03m# Close the environment connection\u001b[39;00m\n\u001b[0;32m     19\u001b[0m env\u001b[38;5;241m.\u001b[39mclose()\n",
      "File \u001b[1;32mc:\\Users\\samue\\miniconda3\\envs\\gym\\Lib\\site-packages\\stable_baselines3\\common\\env_checker.py:443\u001b[0m, in \u001b[0;36mcheck_env\u001b[1;34m(env, warn, skip_render_check)\u001b[0m\n\u001b[0;32m    441\u001b[0m     env\u001b[38;5;241m.\u001b[39mreset(seed\u001b[38;5;241m=\u001b[39m\u001b[38;5;241m0\u001b[39m)\n\u001b[0;32m    442\u001b[0m \u001b[38;5;28;01mexcept\u001b[39;00m \u001b[38;5;167;01mTypeError\u001b[39;00m \u001b[38;5;28;01mas\u001b[39;00m e:\n\u001b[1;32m--> 443\u001b[0m     \u001b[38;5;28;01mraise\u001b[39;00m \u001b[38;5;167;01mTypeError\u001b[39;00m(\u001b[38;5;124m\"\u001b[39m\u001b[38;5;124mThe reset() method must accept a `seed` parameter\u001b[39m\u001b[38;5;124m\"\u001b[39m) \u001b[38;5;28;01mfrom\u001b[39;00m \u001b[38;5;21;01me\u001b[39;00m\n\u001b[0;32m    445\u001b[0m \u001b[38;5;66;03m# Warn the user if needed.\u001b[39;00m\n\u001b[0;32m    446\u001b[0m \u001b[38;5;66;03m# A warning means that the environment may run but not work properly with Stable Baselines algorithms\u001b[39;00m\n\u001b[0;32m    447\u001b[0m \u001b[38;5;28;01mif\u001b[39;00m warn:\n",
      "\u001b[1;31mTypeError\u001b[0m: The reset() method must accept a `seed` parameter"
     ]
    }
   ],
   "source": [
    "import asyncio\n",
    "import websockets\n",
    "from pydantic import BaseModel\n",
    "import nest_asyncio\n",
    "nest_asyncio.apply()\n",
    "import json\n",
    "from ClassPVPOKE import PVPokeEnv\n",
    "from stable_baselines3 import PPO\n",
    "from stable_baselines3.common.env_checker import check_env\n",
    "\n",
    "# Create an instance of the environment and connect to the server\n",
    "env = PVPokeEnv(\"ws://localhost:8000/ws\", \"notebook\", \"pvpoke\")\n",
    "env.loop.run_until_complete(env.connect())\n",
    "\n",
    "# Check if the environment follows the Gym API\n",
    "check_env(env)\n",
    "\n",
    "# Close the environment connection\n",
    "env.close()"
   ]
  }
 ],
 "metadata": {
  "kernelspec": {
   "display_name": "gym",
   "language": "python",
   "name": "python3"
  },
  "language_info": {
   "codemirror_mode": {
    "name": "ipython",
    "version": 3
   },
   "file_extension": ".py",
   "mimetype": "text/x-python",
   "name": "python",
   "nbconvert_exporter": "python",
   "pygments_lexer": "ipython3",
   "version": "3.11.10"
  }
 },
 "nbformat": 4,
 "nbformat_minor": 2
}
